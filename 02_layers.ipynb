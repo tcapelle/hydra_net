{
 "cells": [
  {
   "cell_type": "code",
   "execution_count": null,
   "id": "4697f1d9-54e4-4a04-b686-2dfd15031172",
   "metadata": {},
   "outputs": [],
   "source": [
    "#default_exp layers"
   ]
  },
  {
   "cell_type": "markdown",
   "id": "8340ac74-ac72-4f76-8716-946b2681faf0",
   "metadata": {},
   "source": [
    "# Layers\n",
    "> A bunch of torch layers"
   ]
  },
  {
   "cell_type": "code",
   "execution_count": null,
   "id": "24a87fe4-43ba-4019-a2ea-bc48076bf7be",
   "metadata": {},
   "outputs": [],
   "source": [
    "#export\n",
    "import torch\n",
    "import torch.nn as nn\n",
    "import torch.nn.functional as F"
   ]
  },
  {
   "cell_type": "code",
   "execution_count": null,
   "id": "5edee8fe-c105-4247-a32a-9c1355a969c0",
   "metadata": {},
   "outputs": [],
   "source": [
    "#export\n",
    "class ConvLayer(nn.Sequential):\n",
    "    \"A simple Conv+BN+Relu\"\n",
    "    def __init__(self, in_channels: int, out_channels: int, kernel_size: int = 1, groups: int = 1, stride: int = 1, activation: bool = True):\n",
    "        layers = [nn.Conv2d(in_channels, out_channels, kernel_size, stride=stride, padding=kernel_size // 2, groups=groups, bias=False),\n",
    "                  nn.BatchNorm2d(out_channels)] + ([nn.ReLU6(inplace=True)] if activation else [])\n",
    "        super().__init__(*layers)"
   ]
  },
  {
   "cell_type": "code",
   "execution_count": null,
   "id": "1397f3e1-06e8-49ac-bb39-736ede8aabaa",
   "metadata": {},
   "outputs": [
    {
     "data": {
      "text/plain": [
       "ConvLayer(\n",
       "  (0): Conv2d(2, 4, kernel_size=(1, 1), stride=(1, 1), bias=False)\n",
       "  (1): BatchNorm2d(4, eps=1e-05, momentum=0.1, affine=True, track_running_stats=True)\n",
       "  (2): ReLU6(inplace=True)\n",
       ")"
      ]
     },
     "execution_count": null,
     "metadata": {},
     "output_type": "execute_result"
    }
   ],
   "source": [
    "ConvLayer(2,4,1, activation=True)"
   ]
  },
  {
   "cell_type": "code",
   "execution_count": null,
   "id": "aaeabb9c-36ae-44fa-8d61-d20448c18e21",
   "metadata": {},
   "outputs": [
    {
     "data": {
      "text/plain": [
       "ConvLayer(\n",
       "  (0): Conv2d(2, 4, kernel_size=(1, 1), stride=(1, 1), bias=False)\n",
       "  (1): BatchNorm2d(4, eps=1e-05, momentum=0.1, affine=True, track_running_stats=True)\n",
       ")"
      ]
     },
     "execution_count": null,
     "metadata": {},
     "output_type": "execute_result"
    }
   ],
   "source": [
    "ConvLayer(2,4,1, activation=False)"
   ]
  },
  {
   "cell_type": "code",
   "execution_count": null,
   "id": "9ea49235-c313-427f-a12f-138510230023",
   "metadata": {},
   "outputs": [],
   "source": [
    "#export\n",
    "class CRPBlock(nn.Module):\n",
    "    \"A bunch of convs and a maxpool with a tricky forward\"\n",
    "    def __init__(self, in_channels, out_channels, num_stages=1, use_groups=False):\n",
    "        super().__init__()\n",
    "        groups = in_channels if use_groups else 1\n",
    "        convs = [nn.Conv2d(in_channels if (i == 0) else out_channels, out_channels, kernel_size=1, bias=False, groups=groups) for i in range(num_stages)]\n",
    "        self.convs = nn.ModuleList(convs)\n",
    "        self.pool = nn.MaxPool2d(kernel_size=5, stride=1, padding=2)\n",
    "    \n",
    "    def forward(self, x):\n",
    "        \"y = x + f(x) + f(f(x)) + f(f(f(x)))...\"\n",
    "        out = x\n",
    "        for conv in self.convs:\n",
    "            out = conv(self.pool(out))\n",
    "            x = out + x\n",
    "        return x "
   ]
  },
  {
   "cell_type": "code",
   "execution_count": null,
   "id": "4b4d14da-5c85-45aa-b2b3-a0222f086b55",
   "metadata": {},
   "outputs": [
    {
     "data": {
      "text/plain": [
       "CRPBlock(\n",
       "  (convs): ModuleList(\n",
       "    (0): Conv2d(32, 64, kernel_size=(1, 1), stride=(1, 1), bias=False)\n",
       "    (1): Conv2d(64, 64, kernel_size=(1, 1), stride=(1, 1), bias=False)\n",
       "    (2): Conv2d(64, 64, kernel_size=(1, 1), stride=(1, 1), bias=False)\n",
       "  )\n",
       "  (pool): MaxPool2d(kernel_size=5, stride=1, padding=2, dilation=1, ceil_mode=False)\n",
       ")"
      ]
     },
     "execution_count": null,
     "metadata": {},
     "output_type": "execute_result"
    }
   ],
   "source": [
    "CRPBlock(32,64,3)"
   ]
  },
  {
   "cell_type": "code",
   "execution_count": null,
   "id": "65fc2500-29dc-4f30-973a-8fdd0c77710d",
   "metadata": {},
   "outputs": [],
   "source": [
    "#export\n",
    "class UnetBlock(nn.Module):\n",
    "\n",
    "    def __init__(self, in_up, in_side, out_channels, kernel_size=1, num_stages=4, use_groups=False):\n",
    "        super().__init__()\n",
    "        self.conv_up   = ConvLayer(in_up, out_channels, kernel_size)\n",
    "        self.conv_side = ConvLayer(in_side, out_channels, kernel_size)\n",
    "        self.crp = CRPBlock(out_channels, out_channels, num_stages=num_stages, use_groups=use_groups)\n",
    "\n",
    "    def forward(self, side_input, up_input):\n",
    "        up_input = self.conv_up(up_input)\n",
    "        side_input = self.conv_side(side_input)\n",
    "        if up_input.shape[-2:] != side_input.shape[-2:]:\n",
    "            up_input = F.interpolate(up_input, size=side_input.shape[-2:], mode=\"bilinear\", align_corners=False)\n",
    "        out = self.crp(F.relu(up_input + side_input))\n",
    "        return out"
   ]
  },
  {
   "cell_type": "code",
   "execution_count": null,
   "id": "43a93018-4428-451e-98fa-60d3674e26b0",
   "metadata": {},
   "outputs": [],
   "source": [
    "ublock = UnetBlock(32, 64, 256)"
   ]
  },
  {
   "cell_type": "code",
   "execution_count": null,
   "id": "1b0c9549-f1f3-4b1d-ac0a-8e20b0ebd3f6",
   "metadata": {},
   "outputs": [
    {
     "data": {
      "text/plain": [
       "torch.Size([1, 256, 28, 28])"
      ]
     },
     "execution_count": null,
     "metadata": {},
     "output_type": "execute_result"
    }
   ],
   "source": [
    "side = torch.rand(1, 64, 28, 28)\n",
    "up   = torch.rand(1, 32, 14, 14)\n",
    "ublock(side, up).shape"
   ]
  },
  {
   "cell_type": "code",
   "execution_count": null,
   "id": "03ed74c2-c1f8-4083-a53c-6dc402119bd8",
   "metadata": {},
   "outputs": [],
   "source": [
    "#export\n",
    "def sigmoid_range(x, low, high):\n",
    "    \"Sigmoid function with range `(low, high)`\"\n",
    "    return torch.sigmoid(x) * (high - low) + low\n",
    "\n",
    "\n",
    "class SigmoidRange(nn.Module):\n",
    "    \"A simple layer to scale output between `low` and `high`\"\n",
    "    def __init__(self, low, high):\n",
    "        super().__init__()\n",
    "        self.low = low\n",
    "        self.high = high\n",
    "        \n",
    "    def forward(self, x):\n",
    "        \"Sigmoid module with range `(low, high)`\"\n",
    "        return sigmoid_range(x, self.low, self.high)"
   ]
  },
  {
   "cell_type": "code",
   "execution_count": null,
   "id": "f6e67a97-daf3-4c65-bd66-3304ca4fbf88",
   "metadata": {},
   "outputs": [],
   "source": [
    "sr = SigmoidRange(0,10)"
   ]
  },
  {
   "cell_type": "code",
   "execution_count": null,
   "id": "654ea567-229a-4b4b-8799-cae449220fed",
   "metadata": {},
   "outputs": [
    {
     "data": {
      "text/plain": [
       "tensor([4.5398e-04, 4.7502e+00, 7.3106e+00, 8.8080e+00, 9.5257e+00, 9.8201e+00])"
      ]
     },
     "execution_count": null,
     "metadata": {},
     "output_type": "execute_result"
    }
   ],
   "source": [
    "sr(torch.Tensor([-10, -0.1, 1,2,3,4]))"
   ]
  },
  {
   "cell_type": "markdown",
   "id": "5b402c06-ce04-4d3c-99e0-4afb4c5b45fc",
   "metadata": {},
   "source": [
    "## Export -"
   ]
  },
  {
   "cell_type": "code",
   "execution_count": null,
   "id": "2f9fd0a1-fd3c-43a5-9823-2378bd2ae1f3",
   "metadata": {},
   "outputs": [
    {
     "name": "stdout",
     "output_type": "stream",
     "text": [
      "Converted 00_utils.ipynb.\n",
      "Converted 01_data.ipynb.\n",
      "Converted 02_layers.ipynb.\n",
      "Converted 03_hydranet.ipynb.\n",
      "Converted 04_trainer.ipynb.\n"
     ]
    }
   ],
   "source": [
    "from nbdev.export import notebook2script\n",
    "notebook2script()"
   ]
  }
 ],
 "metadata": {
  "kernelspec": {
   "display_name": "Python 3 (ipykernel)",
   "language": "python",
   "name": "python3"
  },
  "language_info": {
   "codemirror_mode": {
    "name": "ipython",
    "version": 3
   },
   "file_extension": ".py",
   "mimetype": "text/x-python",
   "name": "python",
   "nbconvert_exporter": "python",
   "pygments_lexer": "ipython3",
   "version": "3.9.9"
  }
 },
 "nbformat": 4,
 "nbformat_minor": 5
}
