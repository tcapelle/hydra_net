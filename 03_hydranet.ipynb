{
 "cells": [
  {
   "cell_type": "code",
   "execution_count": null,
   "id": "be76c5ac-4f99-4e4b-989f-ee31c27b6505",
   "metadata": {},
   "outputs": [],
   "source": [
    "#default_exp hydranet"
   ]
  },
  {
   "cell_type": "markdown",
   "id": "9860dbc1-4a2d-4f54-b722-90752bc9e89d",
   "metadata": {},
   "source": [
    "# HydraNet\n",
    "> Inspired from Tesla but mini"
   ]
  },
  {
   "cell_type": "code",
   "execution_count": null,
   "id": "ec2e1d6e-cc01-4e5c-a725-8a4afc61cbdd",
   "metadata": {},
   "outputs": [],
   "source": [
    "import timm\n",
    "import torch\n",
    "import torch.nn as nn\n",
    "import torch.nn.functional as F\n",
    "from hydra_net.layers import *"
   ]
  },
  {
   "cell_type": "markdown",
   "id": "975efbb7-1066-4583-ab95-b88d3284f735",
   "metadata": {},
   "source": [
    "## Model"
   ]
  },
  {
   "cell_type": "code",
   "execution_count": null,
   "id": "42d750d9-5a55-4785-91e7-62ed8fa9a9f2",
   "metadata": {},
   "outputs": [],
   "source": [
    "#export\n",
    "class DynamicUnet(nn.Module):\n",
    "    \"\"\"A Unet that take almost any backbone from timm\"\"\"\n",
    "    def __init__(self, backbone=\"mobilenetv2_100\", dim=256):\n",
    "        super().__init__()\n",
    "        self.encoder = timm.create_model(backbone, pretrained=True, features_only=True)\n",
    "\n",
    "        # passing dummy tensor to get sizes\n",
    "        dummy_tensor = torch.rand([1, 3, 64, 64])\n",
    "        features = self.encoder(dummy_tensor)\n",
    "        ch_sizes = [list(f.shape)[1] for f in features][::-1]\n",
    "        self.upsample_blocks = []\n",
    "\n",
    "        self.mid_conv = ConvLayer(ch_sizes[0], dim, 3)\n",
    "\n",
    "        for i, ch_size in enumerate(ch_sizes[1:]):\n",
    "            self.upsample_blocks.append(UnetBlock(dim, ch_size, out_channels=dim, use_groups=(i==(len(features)-2))))\n",
    "        \n",
    "\n",
    "    def forward(self, x):\n",
    "        input_shape = x.shape\n",
    "\n",
    "        # features reversed in order\n",
    "        features = self.encoder(x)[::-1]\n",
    "\n",
    "        # put last feature on dim of the model\n",
    "        x = self.mid_conv(features[0])\n",
    "\n",
    "        # upsample blocks with shortcurts from the sides\n",
    "        for f, ublock in zip(features[1:], self.upsample_blocks):\n",
    "            x = ublock(f, x)\n",
    "        x = F.interpolate(x, size=input_shape[-2:], mode=\"bilinear\", align_corners=False)\n",
    "        return x"
   ]
  },
  {
   "cell_type": "code",
   "execution_count": null,
   "id": "d13adae1-bc32-4c26-876c-c9837b9fd4be",
   "metadata": {},
   "outputs": [],
   "source": [
    "class HydraNet(nn.Module):\n",
    "    def __init__(self, backbone=\"mobilenetv2_100\", hidden_dim=256, num_classes=21):\n",
    "        super().__init__()\n",
    "        self.backbone = DynamicUnet(backbone, dim=hidden_dim)\n",
    "        self.segmentation_head = nn.Conv2d(hidden_dim, num_classes, 1, bias=False)\n",
    "\n",
    "    def forward(self, x):\n",
    "        \n",
    "        backbone_out = self.backbone(x)\n",
    "\n",
    "        return self.segmentation_head(backbone_out)"
   ]
  },
  {
   "cell_type": "code",
   "execution_count": null,
   "id": "e52931cc-df34-4a25-8cbb-5907bcf75fcc",
   "metadata": {},
   "outputs": [],
   "source": [
    "model = HydraNet()"
   ]
  },
  {
   "cell_type": "code",
   "execution_count": null,
   "id": "d7325f4b-2ec7-4fca-ab45-30a1bf1b7b46",
   "metadata": {},
   "outputs": [
    {
     "data": {
      "text/plain": [
       "torch.Size([1, 21, 64, 64])"
      ]
     },
     "execution_count": null,
     "metadata": {},
     "output_type": "execute_result"
    }
   ],
   "source": [
    "model(torch.rand(1,3,64,64)).shape"
   ]
  },
  {
   "cell_type": "markdown",
   "id": "1580a394-29d4-44a0-b6db-61e329706490",
   "metadata": {},
   "source": [
    "## Export -"
   ]
  },
  {
   "cell_type": "code",
   "execution_count": null,
   "id": "4acb9a1e-3178-45c3-8f7b-1cdf5ca72e5b",
   "metadata": {},
   "outputs": [
    {
     "name": "stdout",
     "output_type": "stream",
     "text": [
      "Converted 01_data.ipynb.\n",
      "Converted 02_layers.ipynb.\n",
      "Converted 03_hydranet.ipynb.\n",
      "Converted 04_trainer.ipynb.\n",
      "Converted index.ipynb.\n"
     ]
    }
   ],
   "source": [
    "from nbdev.export import notebook2script\n",
    "notebook2script()"
   ]
  }
 ],
 "metadata": {
  "kernelspec": {
   "display_name": "Python 3 (ipykernel)",
   "language": "python",
   "name": "python3"
  }
 },
 "nbformat": 4,
 "nbformat_minor": 5
}
