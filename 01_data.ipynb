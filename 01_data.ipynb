{
 "cells": [
  {
   "cell_type": "code",
   "execution_count": 1,
   "id": "995b9828-51dd-48b3-aa48-2d03e6efd947",
   "metadata": {},
   "outputs": [],
   "source": [
    "#default_exp data"
   ]
  },
  {
   "cell_type": "markdown",
   "id": "fb9aa886-4dca-4896-8c5a-b0bc23204521",
   "metadata": {},
   "source": [
    "# Data\n",
    "> Basic functionalities to read the NYU dataset"
   ]
  },
  {
   "cell_type": "code",
   "execution_count": 4,
   "id": "743ecacb-37ad-421d-bd4a-89a8ba60b797",
   "metadata": {},
   "outputs": [],
   "source": [
    "#export\n",
    "import torch\n",
    "import torchvision.transforms as T\n",
    "from torch.utils import data\n",
    "\n",
    "import numpy as np\n",
    "import matplotlib.pyplot as plt\n",
    "import mat73\n",
    "from fastcore.all import *\n",
    "\n",
    "from hydranet.utils import *"
   ]
  },
  {
   "cell_type": "markdown",
   "id": "84a8ef6b-4ddf-457b-9861-32559179d224",
   "metadata": {},
   "source": [
    "## Dataset"
   ]
  },
  {
   "cell_type": "code",
   "execution_count": 5,
   "id": "2bd7b349-7ae0-480a-b0ee-cdb35b089273",
   "metadata": {},
   "outputs": [],
   "source": [
    "#export\n",
    "def matlab_to_np(dataset_path = 'data/nyu_depth_v2_labeled.mat'):\n",
    "    \"Save on npy files our dataset\"\n",
    "    data = mat73.loadmat(dataset_path)\n",
    "    np.save(\"data/images\", data[\"images\"])\n",
    "    np.save(\"data/depths\", data[\"depths\"])\n",
    "    np.save(\"data/labels\", data[\"labels\"])"
   ]
  },
  {
   "cell_type": "code",
   "execution_count": 6,
   "id": "74b331cd-614b-4344-9457-35105a7c6c50",
   "metadata": {},
   "outputs": [],
   "source": [
    "#export\n",
    "class NYUDataset:\n",
    "    \n",
    "    _titles=[\"img\", \"depth\", \"label\"]\n",
    "    \n",
    "    def __init__(self, dataset_path='data', tfms=None):\n",
    "        self.images = np.load(Path(dataset_path)/\"images.npy\")\n",
    "        self.depths = np.load(Path(dataset_path)/\"depths.npy\")            \n",
    "        self.labels = np.load(Path(dataset_path)/\"labels.npy\")\n",
    "\n",
    "        \n",
    "    def __getitem__(self, idx):\n",
    "        timg = T.ToTensor()(self.images[..., idx])\n",
    "        tdepth = torch.as_tensor(self.depths[None, :, :, idx])\n",
    "        tlabel = torch.as_tensor(self.labels[:, :, idx].astype(np.int64))\n",
    "        return (timg, tdepth, tlabel)\n",
    "        \n",
    "    def show_one(self, idx=0):\n",
    "        show_images(self.__getitem__(idx), titles=self._titles)\n",
    "    \n",
    "    def __len__(self): return self.images.shape[-1]\n",
    "\n",
    "    def dataloader(self, batch_size: int, num_workers: int, shuffle: bool, pin_memory: bool) -> data.DataLoader:\n",
    "         return data.DataLoader(\n",
    "             self,\n",
    "             batch_size=batch_size,\n",
    "             num_workers=num_workers,\n",
    "             shuffle=shuffle,\n",
    "             pin_memory=pin_memory,\n",
    "         )"
   ]
  },
  {
   "cell_type": "markdown",
   "id": "ef717b5b-196e-49b3-943b-e88c3449e251",
   "metadata": {
    "tags": []
   },
   "source": [
    "## Export -"
   ]
  },
  {
   "cell_type": "code",
   "execution_count": 7,
   "id": "2f9fd0a1-fd3c-43a5-9823-2378bd2ae1f3",
   "metadata": {},
   "outputs": [
    {
     "name": "stdout",
     "output_type": "stream",
     "text": [
      "Converted 00_utils.ipynb.\n",
      "Converted 01_data.ipynb.\n",
      "Converted 02_layers.ipynb.\n",
      "Converted 03_hydranet.ipynb.\n",
      "Converted 04_trainer.ipynb.\n"
     ]
    }
   ],
   "source": [
    "from nbdev.export import notebook2script\n",
    "notebook2script()"
   ]
  }
 ],
 "metadata": {
  "kernelspec": {
   "display_name": "Python 3 (ipykernel)",
   "language": "python",
   "name": "python3"
  },
  "language_info": {
   "codemirror_mode": {
    "name": "ipython",
    "version": 3
   },
   "file_extension": ".py",
   "mimetype": "text/x-python",
   "name": "python",
   "nbconvert_exporter": "python",
   "pygments_lexer": "ipython3",
   "version": "3.9.9"
  }
 },
 "nbformat": 4,
 "nbformat_minor": 5
}
